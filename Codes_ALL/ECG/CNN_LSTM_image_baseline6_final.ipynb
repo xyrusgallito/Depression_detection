{
 "cells": [
  {
   "cell_type": "code",
   "execution_count": 5,
   "id": "906345d0",
   "metadata": {},
   "outputs": [],
   "source": [
    "# pip install librosa"
   ]
  },
  {
   "cell_type": "code",
   "execution_count": 7,
   "id": "873767ff",
   "metadata": {},
   "outputs": [],
   "source": [
    "#pip install opencv-python"
   ]
  },
  {
   "cell_type": "code",
   "execution_count": 1,
   "id": "b64ea015",
   "metadata": {},
   "outputs": [],
   "source": [
    "# #This is for STFT\n",
    "\n",
    "# import os\n",
    "# import pandas as pd\n",
    "# import numpy as np\n",
    "# import matplotlib.pyplot as plt\n",
    "# import librosa\n",
    "# import librosa.display\n",
    "# from PIL import Image\n",
    "\n",
    "# # Set the input and output directories\n",
    "# gen_dir = \"/Users/xaichotic/Library/CloudStorage/OneDrive-NorthumbriaUniversity-ProductionAzureAD/Term3/\"\n",
    "\n",
    "# input_folder = os.path.join(gen_dir, \"Data_ALL/ECG/ECG_csv_files_labeled_baseline6_pantompkins\")\n",
    "# output_folder = os.path.join(gen_dir, \"Data_ALL/ECG_images_baseline6_STFT\")\n",
    "\n",
    "# # Create output directory if it does not exist\n",
    "# if not os.path.exists(output_folder):\n",
    "#     os.makedirs(output_folder)\n",
    "\n",
    "# # Define the parameters for the STFT\n",
    "# n_fft = 1024\n",
    "# hop_length = 512\n",
    "\n",
    "# # Loop through all the CSV files in the folder\n",
    "# for filename in os.listdir(input_folder):\n",
    "#     if filename.endswith(\".csv\"):\n",
    "#         # Load the CSV file as a NumPy array\n",
    "#         file_path = os.path.join(input_folder, filename)\n",
    "#         ecg_signal = pd.read_csv(file_path, header=None).values.flatten()\n",
    "\n",
    "#         # Compute the STFT\n",
    "#         stft = librosa.stft(ecg_signal, n_fft=n_fft, hop_length=hop_length)\n",
    "#         stft_mag_db = librosa.amplitude_to_db(np.abs(stft), ref=np.max)\n",
    "\n",
    "#         # Normalize the STFT to [0, 1] range\n",
    "#         stft_norm = (stft_mag_db - np.min(stft_mag_db)) / np.ptp(stft_mag_db)\n",
    "\n",
    "#         # Convert the STFT to a 8-bit grayscale image\n",
    "#         stft_img = (stft_norm * 255).astype(np.uint8)\n",
    "\n",
    "#         # Save the image as a PNG file\n",
    "#         output_filename = os.path.splitext(filename)[0] + \".png\"\n",
    "#         output_path = os.path.join(output_folder, output_filename)\n",
    "#         Image.fromarray(stft_img, mode=\"L\").save(output_path)\n",
    "\n",
    "#         print(f\"Processed {filename} and saved {output_filename}\")\n"
   ]
  },
  {
   "cell_type": "code",
   "execution_count": 1,
   "id": "3846cae4",
   "metadata": {},
   "outputs": [
    {
     "name": "stdout",
     "output_type": "stream",
     "text": [
      "2.11.0\n"
     ]
    }
   ],
   "source": [
    "import tensorflow as tf\n",
    "print(tf.__version__)"
   ]
  },
  {
   "cell_type": "code",
   "execution_count": 2,
   "id": "08c2503c",
   "metadata": {},
   "outputs": [
    {
     "name": "stdout",
     "output_type": "stream",
     "text": [
      "There are 81 files in the /Users/w20009829/OneDrive - Northumbria University - Production Azure AD/Term3/Data_ALL/ECG_images_baseline6_STFT folder.\n"
     ]
    }
   ],
   "source": [
    "#counting the length of the files EDA\n",
    "#62, it matches the number of files in csv\n",
    "\n",
    "gen_dir = \"/Users/w20009829/OneDrive - Northumbria University - Production Azure AD/Term3/\"\n",
    "\n",
    "# Set the input and output directories\n",
    "#gen_dir = \"/Users/xaichotic/Library/CloudStorage/OneDrive-NorthumbriaUniversity-ProductionAzureAD/Term3/\"\n",
    "\n",
    "import os\n",
    "folder_path = os.path.join(gen_dir, \"Data_ALL/ECG_images_baseline6_STFT\")\n",
    "\n",
    "# Count the number of files in the folder\n",
    "num_files = len([f for f in os.listdir(folder_path) if os.path.isfile(os.path.join(folder_path, f))])\n",
    "\n",
    "print(f\"There are {num_files} files in the {folder_path} folder.\")\n"
   ]
  },
  {
   "cell_type": "code",
   "execution_count": 3,
   "id": "e4465570",
   "metadata": {},
   "outputs": [
    {
     "name": "stdout",
     "output_type": "stream",
     "text": [
      "Class 0: 56 files\n",
      "Class 1: 25 files\n"
     ]
    }
   ],
   "source": [
    "#checking for the frequency if each class\n",
    "\n",
    "import os\n",
    "\n",
    "data_dir = os.path.join(gen_dir, \"Data_ALL/ECG_images_baseline6_STFT\")\n",
    "\n",
    "class_counts = {0: 0, 1: 0}\n",
    "\n",
    "for file_name in os.listdir(data_dir):\n",
    "    if file_name.endswith(\".png\"):\n",
    "        class_label = int(file_name.split(\"_\")[-1].split(\".\")[0])\n",
    "        class_counts[class_label] += 1\n",
    "\n",
    "print(f\"Class 0: {class_counts[0]} files\")\n",
    "print(f\"Class 1: {class_counts[1]} files\")"
   ]
  },
  {
   "cell_type": "code",
   "execution_count": 4,
   "id": "eeb212fe",
   "metadata": {},
   "outputs": [],
   "source": [
    "#extracting label from the filename\n",
    "\n",
    "import cv2\n",
    "import numpy as np\n",
    "from imblearn.under_sampling import RandomUnderSampler\n",
    "from sklearn.model_selection import train_test_split\n",
    "\n",
    "# Set the data directory path\n",
    "data_dir = os.path.join(gen_dir, \"Data_ALL/ECG_images_baseline6_STFT\")\n",
    "\n",
    "X = []\n",
    "y = []\n",
    "\n",
    "# Go through all the files in the directory\n",
    "for file_name in os.listdir(data_dir):\n",
    "    if file_name.endswith(\".png\"):\n",
    "        # Extract the label from the file name\n",
    "        label = int(file_name.split(\"_\")[-1][0])\n",
    "        # Load the image file and preprocess it\n",
    "        file_path = os.path.join(data_dir, file_name)\n",
    "        img = cv2.imread(file_path, cv2.IMREAD_GRAYSCALE)\n",
    "        img = cv2.resize(img, (224, 224))\n",
    "        img = np.array(img).reshape(-1)\n",
    "        # Save the preprocessed image and label in a list\n",
    "        X.append(img)\n",
    "        y.append(label)\n",
    "\n",
    "# Convert the data to numpy arrays\n",
    "X = np.array(X)\n",
    "y = np.array(y)"
   ]
  },
  {
   "cell_type": "code",
   "execution_count": 5,
   "id": "8360ab29",
   "metadata": {},
   "outputs": [],
   "source": [
    "#splitting the data\n",
    "\n",
    "from imblearn.under_sampling import RandomUnderSampler\n",
    "\n",
    "#applying random under-sampling to the data\n",
    "rus = RandomUnderSampler()\n",
    "X_resampled, y_resampled = rus.fit_resample(X, y)\n",
    "\n",
    "#splitting the data into training and testing sets\n",
    "X_train, X_test, y_train, y_test = train_test_split(X_resampled, y_resampled, test_size=0.2, random_state=42)"
   ]
  },
  {
   "cell_type": "code",
   "execution_count": 6,
   "id": "351c8b58",
   "metadata": {},
   "outputs": [
    {
     "name": "stdout",
     "output_type": "stream",
     "text": [
      "Resampled data shape: (50, 50176)\n",
      "Class counts: {0: 25, 1: 25}\n"
     ]
    }
   ],
   "source": [
    "#printing the shape and class counts of the resampled data\n",
    "print(\"Resampled data shape:\", X_resampled.shape)\n",
    "unique, counts = np.unique(y_resampled, return_counts=True)\n",
    "print(\"Class counts:\", dict(zip(unique, counts)))"
   ]
  },
  {
   "cell_type": "code",
   "execution_count": 7,
   "id": "33f727e8",
   "metadata": {},
   "outputs": [
    {
     "name": "stdout",
     "output_type": "stream",
     "text": [
      "Class distribution after Random Undersampling: [25 25]\n"
     ]
    }
   ],
   "source": [
    "#counting the number of instances for each class in the resampled training data\n",
    "class_counts = np.bincount(y_resampled)\n",
    "print(\"Class distribution after Random Undersampling:\", class_counts)"
   ]
  },
  {
   "cell_type": "code",
   "execution_count": 8,
   "id": "2acad7b2",
   "metadata": {},
   "outputs": [
    {
     "name": "stdout",
     "output_type": "stream",
     "text": [
      "(40, 224, 224, 1)\n",
      "(40,)\n",
      "(10, 224, 224, 1)\n",
      "(10,)\n"
     ]
    }
   ],
   "source": [
    "#reshaping the data into a 4D tensor\n",
    "X_train = X_train.reshape((-1, 224, 224, 1))\n",
    "X_test = X_test.reshape((-1, 224, 224, 1))\n",
    "\n",
    "print(X_train.shape)\n",
    "print(y_train.shape)\n",
    "print(X_test.shape)\n",
    "print(y_test.shape)"
   ]
  },
  {
   "cell_type": "code",
   "execution_count": 11,
   "id": "39d5e87d",
   "metadata": {},
   "outputs": [
    {
     "name": "stdout",
     "output_type": "stream",
     "text": [
      "Model: \"sequential_1\"\n",
      "_________________________________________________________________\n",
      " Layer (type)                Output Shape              Param #   \n",
      "=================================================================\n",
      " conv2d_3 (Conv2D)           (None, 223, 223, 32)      160       \n",
      "                                                                 \n",
      " max_pooling2d_3 (MaxPooling  (None, 111, 111, 32)     0         \n",
      " 2D)                                                             \n",
      "                                                                 \n",
      " conv2d_4 (Conv2D)           (None, 110, 110, 64)      8256      \n",
      "                                                                 \n",
      " max_pooling2d_4 (MaxPooling  (None, 55, 55, 64)       0         \n",
      " 2D)                                                             \n",
      "                                                                 \n",
      " conv2d_5 (Conv2D)           (None, 54, 54, 128)       32896     \n",
      "                                                                 \n",
      " max_pooling2d_5 (MaxPooling  (None, 27, 27, 128)      0         \n",
      " 2D)                                                             \n",
      "                                                                 \n",
      " reshape_1 (Reshape)         (None, 729, 128)          0         \n",
      "                                                                 \n",
      " lstm_1 (LSTM)               (None, 32)                20608     \n",
      "                                                                 \n",
      " dropout_2 (Dropout)         (None, 32)                0         \n",
      "                                                                 \n",
      " dense_2 (Dense)             (None, 256)               8448      \n",
      "                                                                 \n",
      " dropout_3 (Dropout)         (None, 256)               0         \n",
      "                                                                 \n",
      " dense_3 (Dense)             (None, 1)                 257       \n",
      "                                                                 \n",
      "=================================================================\n",
      "Total params: 70,625\n",
      "Trainable params: 70,625\n",
      "Non-trainable params: 0\n",
      "_________________________________________________________________\n",
      "Epoch 1/20\n",
      "3/3 [==============================] - 3s 559ms/step - loss: 0.7720 - accuracy: 0.3250 - val_loss: 0.8020 - val_accuracy: 0.3000\n",
      "Epoch 2/20\n",
      "3/3 [==============================] - 1s 365ms/step - loss: 0.6698 - accuracy: 0.6000 - val_loss: 0.7821 - val_accuracy: 0.3000\n",
      "Epoch 3/20\n",
      "3/3 [==============================] - 1s 361ms/step - loss: 0.7274 - accuracy: 0.5250 - val_loss: 0.7360 - val_accuracy: 0.3000\n",
      "Epoch 4/20\n",
      "3/3 [==============================] - 1s 364ms/step - loss: 0.7088 - accuracy: 0.5000 - val_loss: 0.7506 - val_accuracy: 0.3000\n",
      "Epoch 5/20\n",
      "3/3 [==============================] - 1s 362ms/step - loss: 0.6908 - accuracy: 0.5000 - val_loss: 0.7739 - val_accuracy: 0.3000\n",
      "Epoch 6/20\n",
      "3/3 [==============================] - 1s 373ms/step - loss: 0.6746 - accuracy: 0.5000 - val_loss: 0.7399 - val_accuracy: 0.3000\n",
      "Epoch 7/20\n",
      "3/3 [==============================] - 1s 371ms/step - loss: 0.6792 - accuracy: 0.5750 - val_loss: 0.7470 - val_accuracy: 0.3000\n",
      "Epoch 8/20\n",
      "3/3 [==============================] - 1s 380ms/step - loss: 0.6878 - accuracy: 0.5750 - val_loss: 0.7038 - val_accuracy: 0.3000\n",
      "Epoch 9/20\n",
      "3/3 [==============================] - 1s 368ms/step - loss: 0.7034 - accuracy: 0.4250 - val_loss: 0.7709 - val_accuracy: 0.3000\n",
      "Epoch 10/20\n",
      "3/3 [==============================] - 1s 361ms/step - loss: 0.6692 - accuracy: 0.6000 - val_loss: 0.7532 - val_accuracy: 0.3000\n",
      "Epoch 11/20\n",
      "3/3 [==============================] - 1s 358ms/step - loss: 0.7001 - accuracy: 0.5500 - val_loss: 0.7095 - val_accuracy: 0.3000\n",
      "Epoch 12/20\n",
      "3/3 [==============================] - 1s 365ms/step - loss: 0.7234 - accuracy: 0.4750 - val_loss: 0.7310 - val_accuracy: 0.3000\n",
      "Epoch 13/20\n",
      "3/3 [==============================] - 1s 379ms/step - loss: 0.7041 - accuracy: 0.5250 - val_loss: 0.7366 - val_accuracy: 0.3000\n",
      "Epoch 14/20\n",
      "3/3 [==============================] - 1s 356ms/step - loss: 0.7317 - accuracy: 0.5000 - val_loss: 0.6867 - val_accuracy: 0.7000\n",
      "Epoch 15/20\n",
      "3/3 [==============================] - 1s 352ms/step - loss: 0.6674 - accuracy: 0.6250 - val_loss: 0.7052 - val_accuracy: 0.3000\n",
      "Epoch 16/20\n",
      "3/3 [==============================] - 1s 356ms/step - loss: 0.7138 - accuracy: 0.4750 - val_loss: 0.7597 - val_accuracy: 0.3000\n",
      "Epoch 17/20\n",
      "3/3 [==============================] - 1s 367ms/step - loss: 0.6809 - accuracy: 0.6000 - val_loss: 0.7512 - val_accuracy: 0.3000\n",
      "Epoch 18/20\n",
      "3/3 [==============================] - 1s 357ms/step - loss: 0.6850 - accuracy: 0.5750 - val_loss: 0.7297 - val_accuracy: 0.3000\n",
      "Epoch 19/20\n",
      "3/3 [==============================] - 1s 372ms/step - loss: 0.6856 - accuracy: 0.5500 - val_loss: 0.7786 - val_accuracy: 0.3000\n",
      "Epoch 20/20\n",
      "3/3 [==============================] - 1s 356ms/step - loss: 0.6716 - accuracy: 0.6250 - val_loss: 0.7284 - val_accuracy: 0.3000\n",
      "1/1 [==============================] - 0s 83ms/step - loss: 0.7284 - accuracy: 0.3000\n",
      "Test loss: 0.7284075617790222\n",
      "Test accuracy: 0.30000001192092896\n"
     ]
    }
   ],
   "source": [
    "#CNN-LSTM basic architecture \n",
    "\n",
    "from tensorflow.keras.models import Sequential\n",
    "from tensorflow.keras.layers import Conv2D, MaxPooling2D, Flatten, Dense, BatchNormalization, Bidirectional, LSTM, Reshape, Dropout\n",
    "from tensorflow.keras.callbacks import EarlyStopping\n",
    "from tensorflow.keras.optimizers import Adam, SGD, RMSprop, Adagrad\n",
    "from tensorflow.keras.models import Sequential\n",
    "from tensorflow.keras.layers import LSTM, Dropout, Dense\n",
    "from tensorflow.keras.callbacks import EarlyStopping\n",
    "import numpy as np\n",
    "import tensorflow as tf\n",
    "\n",
    "import random\n",
    "# Set the random seeds for reproducibility\n",
    "os.environ['PYTHONHASHSEED'] = '0'\n",
    "np.random.seed(123)\n",
    "random.seed(123)\n",
    "tf.random.set_seed(123)\n",
    "\n",
    "filter_size = 32\n",
    "kernel_size = (2,2)\n",
    "batch_size = 16\n",
    "lstm_units = 32\n",
    "neurons = 256\n",
    "\n",
    "# Define the model architecture\n",
    "model = Sequential()\n",
    "model.add(Conv2D(filter_size, kernel_size, activation='relu', input_shape=(224, 224, 1)))\n",
    "model.add(MaxPooling2D((2, 2)))\n",
    "model.add(Conv2D(filter_size*2, kernel_size, activation='relu'))\n",
    "model.add(MaxPooling2D((2, 2)))\n",
    "model.add(Conv2D(filter_size*4, kernel_size, activation='relu'))\n",
    "model.add(MaxPooling2D((2, 2)))\n",
    "model.add(Reshape((-1, filter_size*4)))\n",
    "model.add(LSTM(lstm_units))\n",
    "model.add(Dropout(0.5))\n",
    "model.add(Dense(neurons, activation='relu'))\n",
    "model.add(Dropout(0.5))\n",
    "model.add(Dense(1, activation='sigmoid'))\n",
    "\n",
    "model.summary()\n",
    "\n",
    "# Compile the model\n",
    "model.compile(optimizer='rmsprop', loss='binary_crossentropy', metrics=['accuracy'])\n",
    "\n",
    "# Set up early stopping\n",
    "early_stopping = EarlyStopping(monitor='val_loss', restore_best_weights=True, verbose=1, patience=10)\n",
    "\n",
    "# Train the model with early stopping\n",
    "history = model.fit(X_train, y_train, \n",
    "                    epochs=20, \n",
    "                    batch_size=batch_size, \n",
    "                    validation_data=(X_test, y_test), \n",
    "                    callbacks=[early_stopping])\n",
    "\n",
    "test_loss, test_acc = model.evaluate(X_test, y_test)\n",
    "print(\"Test loss:\", test_loss)\n",
    "print(\"Test accuracy:\", test_acc)"
   ]
  },
  {
   "cell_type": "code",
   "execution_count": 10,
   "id": "8c9c288c",
   "metadata": {},
   "outputs": [
    {
     "name": "stdout",
     "output_type": "stream",
     "text": [
      "1/1 [==============================] - 0s 390ms/step\n",
      "[[3 0]\n",
      " [7 0]]\n",
      "              precision    recall  f1-score   support\n",
      "\n",
      "           0       0.30      1.00      0.46         3\n",
      "           1       0.00      0.00      0.00         7\n",
      "\n",
      "    accuracy                           0.30        10\n",
      "   macro avg       0.15      0.50      0.23        10\n",
      "weighted avg       0.09      0.30      0.14        10\n",
      "\n",
      "Specificity: 1.0\n",
      "ROC AUC: 0.1904761904761905\n"
     ]
    },
    {
     "name": "stderr",
     "output_type": "stream",
     "text": [
      "C:\\Anaconda3\\envs\\Xyrus\\lib\\site-packages\\sklearn\\metrics\\_classification.py:1318: UndefinedMetricWarning: Precision and F-score are ill-defined and being set to 0.0 in labels with no predicted samples. Use `zero_division` parameter to control this behavior.\n",
      "  _warn_prf(average, modifier, msg_start, len(result))\n",
      "C:\\Anaconda3\\envs\\Xyrus\\lib\\site-packages\\sklearn\\metrics\\_classification.py:1318: UndefinedMetricWarning: Precision and F-score are ill-defined and being set to 0.0 in labels with no predicted samples. Use `zero_division` parameter to control this behavior.\n",
      "  _warn_prf(average, modifier, msg_start, len(result))\n",
      "C:\\Anaconda3\\envs\\Xyrus\\lib\\site-packages\\sklearn\\metrics\\_classification.py:1318: UndefinedMetricWarning: Precision and F-score are ill-defined and being set to 0.0 in labels with no predicted samples. Use `zero_division` parameter to control this behavior.\n",
      "  _warn_prf(average, modifier, msg_start, len(result))\n"
     ]
    },
    {
     "data": {
      "image/png": "[encoded data removed]",
      "text/plain": [
       "<Figure size 1200x400 with 2 Axes>"
      ]
     },
     "metadata": {},
     "output_type": "display_data"
    }
   ],
   "source": [
    "from sklearn.metrics import confusion_matrix, classification_report, roc_auc_score\n",
    "\n",
    "#getting the predictions\n",
    "y_pred = model.predict(X_test)\n",
    "y_pred_classes = (y_pred > 0.5).astype(int)\n",
    "\n",
    "#printing the confusion matrix\n",
    "cm = confusion_matrix(y_test, y_pred_classes)\n",
    "print(cm)\n",
    "\n",
    "#printing the classification report\n",
    "print(classification_report(y_test, y_pred_classes))\n",
    "\n",
    "#calculating specificity\n",
    "tn, fp, fn, tp = cm.ravel()\n",
    "specificity = tn / (tn + fp)\n",
    "print('Specificity:', specificity)\n",
    "\n",
    "#printing the ROC AUC score\n",
    "roc_auc = roc_auc_score(y_test, y_pred)\n",
    "print('ROC AUC:', roc_auc)\n",
    "\n",
    "import matplotlib.pyplot as plt\n",
    "\n",
    "#getting the training and validation loss and accuracy values from the history object\n",
    "train_loss = history.history['loss']\n",
    "val_loss = history.history['val_loss']\n",
    "train_acc = history.history['accuracy']\n",
    "val_acc = history.history['val_accuracy']\n",
    "\n",
    "#creating the figure and axis objects\n",
    "fig, (ax1, ax2) = plt.subplots(1, 2, figsize=(12, 4))\n",
    "\n",
    "#plotting the training and validation loss\n",
    "ax1.plot(train_loss, label='Training Loss')\n",
    "ax1.plot(val_loss, label='Validation Loss')\n",
    "ax1.set_xlabel('Epoch')\n",
    "ax1.set_ylabel('Loss')\n",
    "ax1.legend()\n",
    "\n",
    "#plotting the training and validation accuracy\n",
    "ax2.plot(train_acc, label='Training Accuracy')\n",
    "ax2.plot(val_acc, label='Validation Accuracy')\n",
    "ax2.set_xlabel('Epoch')\n",
    "ax2.set_ylabel('Accuracy')\n",
    "ax2.legend()\n",
    "\n",
    "#showing the plot\n",
    "plt.show()"
   ]
  },
  {
   "cell_type": "markdown",
   "id": "999a0838",
   "metadata": {},
   "source": [
    "cross-validation"
   ]
  },
  {
   "cell_type": "code",
   "execution_count": 12,
   "id": "37a1dfd7",
   "metadata": {},
   "outputs": [],
   "source": [
    "#model for basic CNN\n",
    "\n",
    "import numpy as np\n",
    "from tensorflow.keras.optimizers import Adam\n",
    "from tensorflow.keras.layers import Conv1D, BatchNormalization, MaxPooling1D, Dropout, Dense, Flatten\n",
    "from tensorflow.keras.callbacks import EarlyStopping\n",
    "from sklearn.model_selection import StratifiedKFold\n",
    "from sklearn.model_selection import KFold\n",
    "\n",
    "import random\n",
    "#setting the random seeds for reproducibility\n",
    "os.environ['PYTHONHASHSEED'] = '0'\n",
    "np.random.seed(42)\n",
    "random.seed(42)\n",
    "tf.random.set_seed(42)\n",
    "\n",
    "filter_size = 32\n",
    "kernel_size = (2,2)\n",
    "batch_size = 16\n",
    "lstm_units = 32\n",
    "neurons = 256\n",
    "num_folds = 10\n",
    "n_epochs = 20\n",
    "\n",
    "#defining the model architecture\n",
    "def create_model():\n",
    "    model = Sequential()\n",
    "    model.add(Conv2D(filter_size, kernel_size, activation='relu', input_shape=(224, 224, 1)))\n",
    "    model.add(MaxPooling2D((2, 2)))\n",
    "    model.add(Conv2D(filter_size*2, kernel_size, activation='relu'))\n",
    "    model.add(MaxPooling2D((2, 2)))\n",
    "    model.add(Conv2D(filter_size*4, kernel_size, activation='relu'))\n",
    "    model.add(MaxPooling2D((2, 2)))\n",
    "    model.add(Reshape((-1, filter_size*4)))\n",
    "    model.add(LSTM(lstm_units))\n",
    "    model.add(Dropout(0.5))\n",
    "    model.add(Dense(neurons, activation='relu'))\n",
    "    model.add(Dropout(0.5))\n",
    "    model.add(Dense(1, activation='sigmoid'))\n",
    "    model.compile(loss='binary_crossentropy', optimizer='rmsprop', metrics=['accuracy'])\n",
    "    return model"
   ]
  },
  {
   "cell_type": "code",
   "execution_count": 13,
   "id": "5117426f",
   "metadata": {},
   "outputs": [
    {
     "name": "stdout",
     "output_type": "stream",
     "text": [
      "Epoch 1/20\n",
      "3/3 [==============================] - 3s 493ms/step - loss: 0.7674 - accuracy: 0.3889 - val_loss: 0.6412 - val_accuracy: 0.7500\n",
      "Epoch 2/20\n",
      "3/3 [==============================] - 1s 313ms/step - loss: 0.6735 - accuracy: 0.6111 - val_loss: 0.6313 - val_accuracy: 0.7500\n",
      "Epoch 3/20\n",
      "3/3 [==============================] - 1s 315ms/step - loss: 0.6974 - accuracy: 0.5833 - val_loss: 0.6331 - val_accuracy: 0.7500\n",
      "Epoch 4/20\n",
      "3/3 [==============================] - 1s 323ms/step - loss: 0.6940 - accuracy: 0.5833 - val_loss: 0.6127 - val_accuracy: 0.7500\n",
      "Epoch 5/20\n",
      "3/3 [==============================] - 1s 330ms/step - loss: 0.6840 - accuracy: 0.6944 - val_loss: 0.6370 - val_accuracy: 0.7500\n",
      "Epoch 6/20\n",
      "3/3 [==============================] - 1s 323ms/step - loss: 0.7121 - accuracy: 0.5833 - val_loss: 0.6893 - val_accuracy: 0.2500\n",
      "Epoch 7/20\n",
      "3/3 [==============================] - ETA: 0s - loss: 0.7000 - accuracy: 0.5278Restoring model weights from the end of the best epoch: 4.\n",
      "3/3 [==============================] - 1s 334ms/step - loss: 0.7000 - accuracy: 0.5278 - val_loss: 0.7286 - val_accuracy: 0.2500\n",
      "Epoch 7: early stopping\n",
      "1/1 [==============================] - 0s 345ms/step\n",
      "1/1 [==============================] - 0s 57ms/step - loss: 0.6127 - accuracy: 0.7500\n",
      "Fold 1: Accuracy = 0.7500,       Precision = 0.0000,       Recall = 0.0000,       Specificity = 1.0000,       AUC = 0.3333,       F1 Score = 0.0000\n",
      "Confusion matrix:\n",
      "[[3 0]\n",
      " [1 0]]\n"
     ]
    },
    {
     "name": "stderr",
     "output_type": "stream",
     "text": [
      "C:\\Anaconda3\\envs\\Xyrus\\lib\\site-packages\\sklearn\\metrics\\_classification.py:1318: UndefinedMetricWarning: Precision is ill-defined and being set to 0.0 due to no predicted samples. Use `zero_division` parameter to control this behavior.\n",
      "  _warn_prf(average, modifier, msg_start, len(result))\n"
     ]
    },
    {
     "name": "stdout",
     "output_type": "stream",
     "text": [
      "Epoch 1/20\n",
      "3/3 [==============================] - 3s 488ms/step - loss: 0.7501 - accuracy: 0.5278 - val_loss: 0.6858 - val_accuracy: 0.7500\n",
      "Epoch 2/20\n",
      "3/3 [==============================] - 1s 307ms/step - loss: 0.7367 - accuracy: 0.5278 - val_loss: 0.6441 - val_accuracy: 0.7500\n",
      "Epoch 3/20\n",
      "3/3 [==============================] - 1s 301ms/step - loss: 0.6838 - accuracy: 0.5278 - val_loss: 0.6682 - val_accuracy: 0.7500\n",
      "Epoch 4/20\n",
      "3/3 [==============================] - 1s 301ms/step - loss: 0.7228 - accuracy: 0.5278 - val_loss: 0.6517 - val_accuracy: 0.7500\n",
      "Epoch 5/20\n",
      "3/3 [==============================] - ETA: 0s - loss: 0.6475 - accuracy: 0.6667Restoring model weights from the end of the best epoch: 2.\n",
      "3/3 [==============================] - 1s 308ms/step - loss: 0.6475 - accuracy: 0.6667 - val_loss: 0.6521 - val_accuracy: 0.7500\n",
      "Epoch 5: early stopping\n",
      "1/1 [==============================] - 0s 333ms/step\n",
      "1/1 [==============================] - 0s 58ms/step - loss: 0.6441 - accuracy: 0.7500\n",
      "Fold 2: Accuracy = 0.7500,       Precision = 0.0000,       Recall = 0.0000,       Specificity = 1.0000,       AUC = 0.0000,       F1 Score = 0.0000\n",
      "Confusion matrix:\n",
      "[[3 0]\n",
      " [1 0]]\n"
     ]
    },
    {
     "name": "stderr",
     "output_type": "stream",
     "text": [
      "C:\\Anaconda3\\envs\\Xyrus\\lib\\site-packages\\sklearn\\metrics\\_classification.py:1318: UndefinedMetricWarning: Precision is ill-defined and being set to 0.0 due to no predicted samples. Use `zero_division` parameter to control this behavior.\n",
      "  _warn_prf(average, modifier, msg_start, len(result))\n"
     ]
    },
    {
     "name": "stdout",
     "output_type": "stream",
     "text": [
      "Epoch 1/20\n",
      "3/3 [==============================] - 3s 482ms/step - loss: 0.7090 - accuracy: 0.5278 - val_loss: 0.6919 - val_accuracy: 0.5000\n",
      "Epoch 2/20\n",
      "3/3 [==============================] - 1s 304ms/step - loss: 0.7300 - accuracy: 0.4722 - val_loss: 0.6930 - val_accuracy: 0.5000\n",
      "Epoch 3/20\n",
      "3/3 [==============================] - 1s 304ms/step - loss: 0.7324 - accuracy: 0.4167 - val_loss: 0.7046 - val_accuracy: 0.5000\n",
      "Epoch 4/20\n",
      "3/3 [==============================] - ETA: 0s - loss: 0.7359 - accuracy: 0.5278Restoring model weights from the end of the best epoch: 1.\n",
      "3/3 [==============================] - 1s 307ms/step - loss: 0.7359 - accuracy: 0.5278 - val_loss: 0.7112 - val_accuracy: 0.5000\n",
      "Epoch 4: early stopping\n",
      "1/1 [==============================] - 0s 330ms/step\n",
      "1/1 [==============================] - 0s 54ms/step - loss: 0.6919 - accuracy: 0.5000\n",
      "Fold 3: Accuracy = 0.5000,       Precision = 0.5000,       Recall = 0.5000,       Specificity = 0.5000,       AUC = 0.5000,       F1 Score = 0.5000\n",
      "Confusion matrix:\n",
      "[[1 1]\n",
      " [1 1]]\n",
      "Epoch 1/20\n",
      "3/3 [==============================] - 3s 495ms/step - loss: 0.7476 - accuracy: 0.3611 - val_loss: 0.6851 - val_accuracy: 0.5000\n",
      "Epoch 2/20\n",
      "3/3 [==============================] - 1s 309ms/step - loss: 0.7277 - accuracy: 0.3889 - val_loss: 0.6879 - val_accuracy: 0.7500\n",
      "Epoch 3/20\n",
      "3/3 [==============================] - 1s 305ms/step - loss: 0.6970 - accuracy: 0.5556 - val_loss: 0.7048 - val_accuracy: 0.5000\n",
      "Epoch 4/20\n",
      "3/3 [==============================] - ETA: 0s - loss: 0.7045 - accuracy: 0.4167Restoring model weights from the end of the best epoch: 1.\n",
      "3/3 [==============================] - 1s 305ms/step - loss: 0.7045 - accuracy: 0.4167 - val_loss: 0.7039 - val_accuracy: 0.5000\n",
      "Epoch 4: early stopping\n",
      "WARNING:tensorflow:5 out of the last 5 calls to <function Model.make_predict_function.<locals>.predict_function at 0x000002259D84A798> triggered tf.function retracing. Tracing is expensive and the excessive number of tracings could be due to (1) creating @tf.function repeatedly in a loop, (2) passing tensors with different shapes, (3) passing Python objects instead of tensors. For (1), please define your @tf.function outside of the loop. For (2), @tf.function has reduce_retracing=True option that can avoid unnecessary retracing. For (3), please refer to https://www.tensorflow.org/guide/function#controlling_retracing and https://www.tensorflow.org/api_docs/python/tf/function for  more details.\n",
      "1/1 [==============================] - 1s 519ms/step\n",
      "1/1 [==============================] - 0s 54ms/step - loss: 0.6851 - accuracy: 0.5000\n",
      "Fold 4: Accuracy = 0.5000,       Precision = 0.5000,       Recall = 1.0000,       Specificity = 0.0000,       AUC = 0.7500,       F1 Score = 0.6667\n",
      "Confusion matrix:\n",
      "[[0 2]\n",
      " [0 2]]\n",
      "Epoch 1/20\n",
      "3/3 [==============================] - 3s 492ms/step - loss: 0.6659 - accuracy: 0.6389 - val_loss: 0.6983 - val_accuracy: 0.5000\n",
      "Epoch 2/20\n",
      "3/3 [==============================] - 1s 312ms/step - loss: 0.6925 - accuracy: 0.4722 - val_loss: 0.6965 - val_accuracy: 0.5000\n",
      "Epoch 3/20\n",
      "3/3 [==============================] - 1s 303ms/step - loss: 0.7668 - accuracy: 0.4167 - val_loss: 0.7052 - val_accuracy: 0.5000\n",
      "Epoch 4/20\n",
      "3/3 [==============================] - 1s 321ms/step - loss: 0.7164 - accuracy: 0.4444 - val_loss: 0.6942 - val_accuracy: 0.5000\n",
      "Epoch 5/20\n",
      "3/3 [==============================] - 1s 312ms/step - loss: 0.7045 - accuracy: 0.5278 - val_loss: 0.6992 - val_accuracy: 0.5000\n",
      "Epoch 6/20\n",
      "3/3 [==============================] - 1s 313ms/step - loss: 0.7050 - accuracy: 0.4722 - val_loss: 0.7109 - val_accuracy: 0.5000\n",
      "Epoch 7/20\n",
      "3/3 [==============================] - ETA: 0s - loss: 0.7127 - accuracy: 0.5556Restoring model weights from the end of the best epoch: 4.\n",
      "3/3 [==============================] - 1s 309ms/step - loss: 0.7127 - accuracy: 0.5556 - val_loss: 0.7116 - val_accuracy: 0.5000\n",
      "Epoch 7: early stopping\n",
      "WARNING:tensorflow:6 out of the last 6 calls to <function Model.make_predict_function.<locals>.predict_function at 0x0000022592FD4318> triggered tf.function retracing. Tracing is expensive and the excessive number of tracings could be due to (1) creating @tf.function repeatedly in a loop, (2) passing tensors with different shapes, (3) passing Python objects instead of tensors. For (1), please define your @tf.function outside of the loop. For (2), @tf.function has reduce_retracing=True option that can avoid unnecessary retracing. For (3), please refer to https://www.tensorflow.org/guide/function#controlling_retracing and https://www.tensorflow.org/api_docs/python/tf/function for  more details.\n",
      "1/1 [==============================] - 0s 349ms/step\n",
      "1/1 [==============================] - 0s 61ms/step - loss: 0.6942 - accuracy: 0.5000\n",
      "Fold 5: Accuracy = 0.5000,       Precision = 0.0000,       Recall = 0.0000,       Specificity = 1.0000,       AUC = 0.7500,       F1 Score = 0.0000\n",
      "Confusion matrix:\n",
      "[[2 0]\n",
      " [2 0]]\n"
     ]
    },
    {
     "name": "stderr",
     "output_type": "stream",
     "text": [
      "C:\\Anaconda3\\envs\\Xyrus\\lib\\site-packages\\sklearn\\metrics\\_classification.py:1318: UndefinedMetricWarning: Precision is ill-defined and being set to 0.0 due to no predicted samples. Use `zero_division` parameter to control this behavior.\n",
      "  _warn_prf(average, modifier, msg_start, len(result))\n"
     ]
    },
    {
     "name": "stdout",
     "output_type": "stream",
     "text": [
      "Epoch 1/20\n",
      "3/3 [==============================] - 3s 484ms/step - loss: 0.7104 - accuracy: 0.5000 - val_loss: 0.7438 - val_accuracy: 0.5000\n",
      "Epoch 2/20\n",
      "3/3 [==============================] - 1s 311ms/step - loss: 0.7653 - accuracy: 0.4722 - val_loss: 0.7355 - val_accuracy: 0.5000\n",
      "Epoch 3/20\n",
      "3/3 [==============================] - 1s 314ms/step - loss: 0.6991 - accuracy: 0.6111 - val_loss: 0.7006 - val_accuracy: 0.5000\n",
      "Epoch 4/20\n",
      "3/3 [==============================] - 1s 310ms/step - loss: 0.7180 - accuracy: 0.4167 - val_loss: 0.6945 - val_accuracy: 0.5000\n",
      "Epoch 5/20\n",
      "3/3 [==============================] - 1s 316ms/step - loss: 0.6720 - accuracy: 0.5556 - val_loss: 0.6986 - val_accuracy: 0.5000\n",
      "Epoch 6/20\n",
      "3/3 [==============================] - 1s 308ms/step - loss: 0.6878 - accuracy: 0.5000 - val_loss: 0.7022 - val_accuracy: 0.5000\n",
      "Epoch 7/20\n",
      "3/3 [==============================] - ETA: 0s - loss: 0.6424 - accuracy: 0.6667Restoring model weights from the end of the best epoch: 4.\n",
      "3/3 [==============================] - 1s 313ms/step - loss: 0.6424 - accuracy: 0.6667 - val_loss: 0.7143 - val_accuracy: 0.5000\n",
      "Epoch 7: early stopping\n",
      "1/1 [==============================] - 0s 336ms/step\n",
      "1/1 [==============================] - 0s 53ms/step - loss: 0.6945 - accuracy: 0.5000\n",
      "Fold 6: Accuracy = 0.5000,       Precision = 0.0000,       Recall = 0.0000,       Specificity = 1.0000,       AUC = 0.5000,       F1 Score = 0.0000\n",
      "Confusion matrix:\n",
      "[[2 0]\n",
      " [2 0]]\n"
     ]
    },
    {
     "name": "stderr",
     "output_type": "stream",
     "text": [
      "C:\\Anaconda3\\envs\\Xyrus\\lib\\site-packages\\sklearn\\metrics\\_classification.py:1318: UndefinedMetricWarning: Precision is ill-defined and being set to 0.0 due to no predicted samples. Use `zero_division` parameter to control this behavior.\n",
      "  _warn_prf(average, modifier, msg_start, len(result))\n"
     ]
    },
    {
     "name": "stdout",
     "output_type": "stream",
     "text": [
      "Epoch 1/20\n",
      "3/3 [==============================] - 3s 480ms/step - loss: 0.7146 - accuracy: 0.4722 - val_loss: 0.6880 - val_accuracy: 0.5000\n",
      "Epoch 2/20\n",
      "3/3 [==============================] - 1s 311ms/step - loss: 0.6980 - accuracy: 0.5000 - val_loss: 0.6919 - val_accuracy: 0.5000\n",
      "Epoch 3/20\n",
      "3/3 [==============================] - 1s 303ms/step - loss: 0.6744 - accuracy: 0.5833 - val_loss: 0.7243 - val_accuracy: 0.2500\n",
      "Epoch 4/20\n",
      "3/3 [==============================] - ETA: 0s - loss: 0.6735 - accuracy: 0.6667Restoring model weights from the end of the best epoch: 1.\n",
      "3/3 [==============================] - 1s 318ms/step - loss: 0.6735 - accuracy: 0.6667 - val_loss: 0.7013 - val_accuracy: 0.5000\n",
      "Epoch 4: early stopping\n",
      "1/1 [==============================] - 1s 593ms/step\n",
      "1/1 [==============================] - 0s 60ms/step - loss: 0.6880 - accuracy: 0.5000\n",
      "Fold 7: Accuracy = 0.5000,       Precision = 0.5000,       Recall = 1.0000,       Specificity = 0.0000,       AUC = 1.0000,       F1 Score = 0.6667\n",
      "Confusion matrix:\n",
      "[[0 2]\n",
      " [0 2]]\n",
      "Epoch 1/20\n",
      "3/3 [==============================] - 3s 487ms/step - loss: 0.7292 - accuracy: 0.4722 - val_loss: 0.6849 - val_accuracy: 0.5000\n",
      "Epoch 2/20\n",
      "3/3 [==============================] - 1s 315ms/step - loss: 0.6817 - accuracy: 0.5278 - val_loss: 0.6837 - val_accuracy: 0.5000\n",
      "Epoch 3/20\n",
      "3/3 [==============================] - 1s 306ms/step - loss: 0.6929 - accuracy: 0.5556 - val_loss: 0.7016 - val_accuracy: 0.5000\n",
      "Epoch 4/20\n",
      "3/3 [==============================] - 1s 313ms/step - loss: 0.7011 - accuracy: 0.4444 - val_loss: 0.6993 - val_accuracy: 0.5000\n",
      "Epoch 5/20\n",
      "3/3 [==============================] - ETA: 0s - loss: 0.6790 - accuracy: 0.5556Restoring model weights from the end of the best epoch: 2.\n",
      "3/3 [==============================] - 1s 314ms/step - loss: 0.6790 - accuracy: 0.5556 - val_loss: 0.7058 - val_accuracy: 0.5000\n",
      "Epoch 5: early stopping\n",
      "1/1 [==============================] - 0s 328ms/step\n",
      "1/1 [==============================] - 0s 53ms/step - loss: 0.6837 - accuracy: 0.5000\n",
      "Fold 8: Accuracy = 0.5000,       Precision = 0.0000,       Recall = 0.0000,       Specificity = 1.0000,       AUC = 1.0000,       F1 Score = 0.0000\n",
      "Confusion matrix:\n",
      "[[2 0]\n",
      " [2 0]]\n"
     ]
    },
    {
     "name": "stderr",
     "output_type": "stream",
     "text": [
      "C:\\Anaconda3\\envs\\Xyrus\\lib\\site-packages\\sklearn\\metrics\\_classification.py:1318: UndefinedMetricWarning: Precision is ill-defined and being set to 0.0 due to no predicted samples. Use `zero_division` parameter to control this behavior.\n",
      "  _warn_prf(average, modifier, msg_start, len(result))\n"
     ]
    },
    {
     "name": "stdout",
     "output_type": "stream",
     "text": [
      "Epoch 1/20\n",
      "3/3 [==============================] - 3s 483ms/step - loss: 0.7321 - accuracy: 0.5278 - val_loss: 0.7095 - val_accuracy: 0.5000\n",
      "Epoch 2/20\n",
      "3/3 [==============================] - 1s 306ms/step - loss: 0.6476 - accuracy: 0.6389 - val_loss: 0.6941 - val_accuracy: 0.5000\n",
      "Epoch 3/20\n",
      "3/3 [==============================] - 1s 305ms/step - loss: 0.7019 - accuracy: 0.5833 - val_loss: 0.6969 - val_accuracy: 0.5000\n",
      "Epoch 4/20\n",
      "3/3 [==============================] - 1s 310ms/step - loss: 0.7059 - accuracy: 0.5000 - val_loss: 0.7035 - val_accuracy: 0.5000\n",
      "Epoch 5/20\n",
      "3/3 [==============================] - ETA: 0s - loss: 0.7391 - accuracy: 0.5000Restoring model weights from the end of the best epoch: 2.\n",
      "3/3 [==============================] - 1s 306ms/step - loss: 0.7391 - accuracy: 0.5000 - val_loss: 0.6993 - val_accuracy: 0.5000\n",
      "Epoch 5: early stopping\n",
      "1/1 [==============================] - 0s 346ms/step\n",
      "1/1 [==============================] - 0s 59ms/step - loss: 0.6941 - accuracy: 0.5000\n",
      "Fold 9: Accuracy = 0.5000,       Precision = 0.0000,       Recall = 0.0000,       Specificity = 1.0000,       AUC = 0.7500,       F1 Score = 0.0000\n",
      "Confusion matrix:\n",
      "[[2 0]\n",
      " [2 0]]\n"
     ]
    },
    {
     "name": "stderr",
     "output_type": "stream",
     "text": [
      "C:\\Anaconda3\\envs\\Xyrus\\lib\\site-packages\\sklearn\\metrics\\_classification.py:1318: UndefinedMetricWarning: Precision is ill-defined and being set to 0.0 due to no predicted samples. Use `zero_division` parameter to control this behavior.\n",
      "  _warn_prf(average, modifier, msg_start, len(result))\n"
     ]
    },
    {
     "name": "stdout",
     "output_type": "stream",
     "text": [
      "Epoch 1/20\n",
      "3/3 [==============================] - 3s 585ms/step - loss: 0.6974 - accuracy: 0.5278 - val_loss: 0.6899 - val_accuracy: 0.7500\n",
      "Epoch 2/20\n",
      "3/3 [==============================] - 1s 316ms/step - loss: 0.7169 - accuracy: 0.5000 - val_loss: 0.6973 - val_accuracy: 0.5000\n",
      "Epoch 3/20\n",
      "3/3 [==============================] - 1s 327ms/step - loss: 0.7346 - accuracy: 0.4722 - val_loss: 0.7105 - val_accuracy: 0.5000\n",
      "Epoch 4/20\n",
      "3/3 [==============================] - ETA: 0s - loss: 0.7210 - accuracy: 0.5000Restoring model weights from the end of the best epoch: 1.\n",
      "3/3 [==============================] - 1s 350ms/step - loss: 0.7210 - accuracy: 0.5000 - val_loss: 0.7076 - val_accuracy: 0.5000\n",
      "Epoch 4: early stopping\n",
      "1/1 [==============================] - 0s 378ms/step\n",
      "1/1 [==============================] - 0s 60ms/step - loss: 0.6899 - accuracy: 0.7500\n",
      "Fold 10: Accuracy = 0.7500,       Precision = 0.6667,       Recall = 1.0000,       Specificity = 0.5000,       AUC = 0.7500,       F1 Score = 0.8000\n",
      "Confusion matrix:\n",
      "[[1 1]\n",
      " [0 2]]\n",
      "Average Accuracy: 0.5750 +/- 0.1146\n",
      "Average Precision: 0.2167 +/- 0.2693\n",
      "Average Recall/Sensitivity: 0.3500 +/- 0.4500\n",
      "Average Specificity: 0.7000 +/- 0.4000\n",
      "Average F1-score: 0.2633 +/- 0.3295\n",
      "Average ROC_AUC score: 0.6333 +/- 0.2915\n",
      "Overall confusion matrix:\n",
      "[[16  6]\n",
      " [11  7]]\n"
     ]
    }
   ],
   "source": [
    "from sklearn.metrics import precision_score, recall_score, f1_score, confusion_matrix, roc_auc_score\n",
    "import numpy as np\n",
    "from tensorflow.keras.optimizers import Adam\n",
    "from tensorflow.keras.layers import Conv1D, BatchNormalization, MaxPooling1D, Dropout, Dense, Flatten\n",
    "from tensorflow.keras.callbacks import EarlyStopping\n",
    "from sklearn.model_selection import StratifiedKFold\n",
    "from sklearn.model_selection import KFold\n",
    "\n",
    "# Set the random seeds for reproducibility\n",
    "os.environ['PYTHONHASHSEED'] = '0'\n",
    "np.random.seed(42)\n",
    "random.seed(42)\n",
    "tf.random.set_seed(42)\n",
    "\n",
    "kfold = StratifiedKFold(n_splits=num_folds, shuffle=True, random_state = 42)\n",
    "\n",
    "#K-fold cross-validation lists\n",
    "score_list = []\n",
    "precision_list = []\n",
    "recall_list = []\n",
    "f1_score_list = []\n",
    "confusion_matrix_list = []\n",
    "specificity_list = []\n",
    "ROC_AUC_list = []\n",
    "\n",
    "\n",
    "for fold, (train_idx, val_idx) in enumerate(kfold.split(X_train, y_train)):\n",
    "    #splitting the data into train and validation sets for this fold\n",
    "    X_train_fold, y_train_fold = X_train[train_idx], y_train[train_idx]\n",
    "    X_val_fold, y_val_fold = X_train[val_idx], y_train[val_idx]\n",
    "    \n",
    "    #defining the early stopping callback\n",
    "    early_stop = EarlyStopping(monitor='val_loss', patience=3, restore_best_weights=True, verbose=1)\n",
    "    \n",
    "    #training the model for this fold\n",
    "    model = create_model()\n",
    "    history = model.fit(X_train_fold, y_train_fold, epochs=n_epochs, batch_size=batch_size, \n",
    "                        validation_data=(X_val_fold, y_val_fold), callbacks=[early_stop], verbose=1)\n",
    "    \n",
    "    #predicting the classes for the validation set for this fold\n",
    "    y_pred = model.predict(X_val_fold)\n",
    "    y_pred_classes = (y_pred > 0.5).astype(int)\n",
    "    \n",
    "    #calculating precision, recall, specificity, F1 score, AUC, and confusion matrix for this fold\n",
    "    precision_list.append(precision_score(y_val_fold, y_pred_classes))\n",
    "    recall_list.append(recall_score(y_val_fold, y_pred_classes))\n",
    "    f1_score_list.append(f1_score(y_val_fold, y_pred_classes))\n",
    "    #tp, fp, fn, tn = confusion_matrix(y_val_fold, y_pred_classes).ravel()\n",
    "    tn, fp, fn, tp = confusion_matrix(y_val_fold, y_pred_classes).ravel()\n",
    "    specificity = tn / (tn + fp)\n",
    "    specificity_list.append(specificity)\n",
    "    ROC_AUC_list.append(roc_auc_score(y_val_fold, y_pred))\n",
    "    confusion_matrix_list.append(confusion_matrix(y_val_fold, y_pred_classes))\n",
    "\n",
    "    #evaluating the model on the test set for this fold\n",
    "    #_, test_acc = model.evaluate(X_test, y_test)\n",
    "    _, test_acc = model.evaluate(X_val_fold, y_val_fold)\n",
    "\n",
    "    score_list.append(test_acc)\n",
    "    \n",
    "    #printing the metrics and confusion matrix for this fold\n",
    "    print(f'Fold {fold + 1}: Accuracy = {test_acc:.4f}, \\\n",
    "      Precision = {precision_list[-1]:.4f}, \\\n",
    "      Recall = {recall_list[-1]:.4f}, \\\n",
    "      Specificity = {specificity_list[-1]:.4f}, \\\n",
    "      AUC = {ROC_AUC_list[-1]:.4f}, \\\n",
    "      F1 Score = {f1_score_list[-1]:.4f}')\n",
    "    print(f'Confusion matrix:\\n{confusion_matrix_list[-1]}')\n",
    "    \n",
    "#Print the average scores for all folds\n",
    "\n",
    "print(f'Average Accuracy: {np.mean(score_list):.4f} +/- {np.std(score_list):.4f}')\n",
    "print(f'Average Precision: {np.mean(precision_list):.4f} +/- {np.std(precision_list):.4f}')\n",
    "print(f'Average Recall/Sensitivity: {np.mean(recall_list):.4f} +/- {np.std(recall_list):.4f}')\n",
    "print(f'Average Specificity: {np.mean(specificity_list):.4f} +/- {np.std(specificity_list):.4f}')\n",
    "print(f'Average F1-score: {np.mean(f1_score_list):.4f} +/- {np.std(f1_score_list):.4f}')\n",
    "print(f'Average ROC_AUC score: {np.mean(ROC_AUC_list):.4f} +/- {np.std(ROC_AUC_list):.4f}')\n",
    "\n",
    "#printing the overall confusion matrix\n",
    "\n",
    "overall_cm = np.sum(confusion_matrix_list, axis=0)\n",
    "print(f'Overall confusion matrix:\\n{overall_cm}')"
   ]
  },
  {
   "cell_type": "code",
   "execution_count": 60,
   "id": "6683f259",
   "metadata": {},
   "outputs": [
    {
     "data": {
      "text/plain": [
       "<Axes: >"
      ]
     },
     "execution_count": 60,
     "metadata": {},
     "output_type": "execute_result"
    },
    {
     "data": {
      "image/png": "[encoded data removed]",
      "text/plain": [
       "<Figure size 640x480 with 2 Axes>"
      ]
     },
     "metadata": {},
     "output_type": "display_data"
    }
   ],
   "source": [
    "import seaborn as sns\n",
    "\n",
    "sns.set(font_scale=1.4) # adjust font size as needed\n",
    "sns.heatmap(overall_cm, annot=True, annot_kws={\"size\": 16}, cmap='Blues', fmt='g')"
   ]
  }
 ],
 "metadata": {
  "kernelspec": {
   "display_name": "Python 3 (ipykernel)",
   "language": "python",
   "name": "python3"
  },
  "language_info": {
   "codemirror_mode": {
    "name": "ipython",
    "version": 3
   },
   "file_extension": ".py",
   "mimetype": "text/x-python",
   "name": "python",
   "nbconvert_exporter": "python",
   "pygments_lexer": "ipython3",
   "version": "3.7.16"
  }
 },
 "nbformat": 4,
 "nbformat_minor": 5
}
